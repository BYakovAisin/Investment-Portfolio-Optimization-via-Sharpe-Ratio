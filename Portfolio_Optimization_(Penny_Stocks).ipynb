{
  "nbformat": 4,
  "nbformat_minor": 0,
  "metadata": {
    "colab": {
      "name": "Portfolio Optimization (Penny Stocks).ipynb",
      "provenance": [],
      "authorship_tag": "ABX9TyO/MTNyM3zFOpARxg3ogvwn"
    },
    "kernelspec": {
      "name": "python3",
      "display_name": "Python 3"
    }
  },
  "cells": [
    {
      "cell_type": "code",
      "metadata": {
        "id": "U76wvC2y7YsU"
      },
      "source": [
        "from pandas_datareader import data as web\n",
        "import pandas as pd\n",
        "import numpy as np\n",
        "from datetime import datetime\n",
        "import matplotlib.pyplot as plt\n",
        "from sklearn import preprocessing\n",
        "plt.style.use('fivethirtyeight')"
      ],
      "execution_count": null,
      "outputs": []
    },
    {
      "cell_type": "code",
      "metadata": {
        "colab": {
          "base_uri": "https://localhost:8080/"
        },
        "id": "J0lyYn9QhZLa",
        "outputId": "edd66bc9-247e-47f5-8a8e-8deadb337f51"
      },
      "source": [
        "pip install PyPortfolioOpt"
      ],
      "execution_count": null,
      "outputs": [
        {
          "output_type": "stream",
          "text": [
            "Collecting PyPortfolioOpt\n",
            "\u001b[?25l  Downloading https://files.pythonhosted.org/packages/3e/63/476e64655bb49c226b754b3c1db8e22fe8b2d877b442977c8f258a0744b5/PyPortfolioOpt-1.4.0-py3-none-any.whl (52kB)\n",
            "\r\u001b[K     |██████▎                         | 10kB 14.5MB/s eta 0:00:01\r\u001b[K     |████████████▌                   | 20kB 11.9MB/s eta 0:00:01\r\u001b[K     |██████████████████▉             | 30kB 7.8MB/s eta 0:00:01\r\u001b[K     |█████████████████████████       | 40kB 6.8MB/s eta 0:00:01\r\u001b[K     |███████████████████████████████▎| 51kB 4.4MB/s eta 0:00:01\r\u001b[K     |████████████████████████████████| 61kB 3.1MB/s \n",
            "\u001b[?25hRequirement already satisfied: cvxopt!=1.2.5.post1,<2.0,>=1.2 in /usr/local/lib/python3.6/dist-packages (from PyPortfolioOpt) (1.2.5)\n",
            "Requirement already satisfied: numpy<2.0,>=1.12 in /usr/local/lib/python3.6/dist-packages (from PyPortfolioOpt) (1.19.5)\n",
            "Requirement already satisfied: scipy<2.0,>=1.3 in /usr/local/lib/python3.6/dist-packages (from PyPortfolioOpt) (1.4.1)\n",
            "Collecting cvxpy<2.0.0,>=1.1.10\n",
            "\u001b[?25l  Downloading https://files.pythonhosted.org/packages/1e/25/c960568e00b8eea26b339e2b56121028c98bddb6ad66c4b9e1d71889f849/cvxpy-1.1.10.tar.gz (1.0MB)\n",
            "\u001b[K     |████████████████████████████████| 1.0MB 5.7MB/s \n",
            "\u001b[?25h  Installing build dependencies ... \u001b[?25l\u001b[?25hdone\n",
            "  Getting requirements to build wheel ... \u001b[?25l\u001b[?25hdone\n",
            "    Preparing wheel metadata ... \u001b[?25l\u001b[?25hdone\n",
            "Requirement already satisfied: pandas>=0.19 in /usr/local/lib/python3.6/dist-packages (from PyPortfolioOpt) (1.1.5)\n",
            "Requirement already satisfied: scs>=1.1.6 in /usr/local/lib/python3.6/dist-packages (from cvxpy<2.0.0,>=1.1.10->PyPortfolioOpt) (2.1.2)\n",
            "Requirement already satisfied: osqp>=0.4.1 in /usr/local/lib/python3.6/dist-packages (from cvxpy<2.0.0,>=1.1.10->PyPortfolioOpt) (0.6.2.post0)\n",
            "Requirement already satisfied: ecos>=2 in /usr/local/lib/python3.6/dist-packages (from cvxpy<2.0.0,>=1.1.10->PyPortfolioOpt) (2.0.7.post1)\n",
            "Requirement already satisfied: pytz>=2017.2 in /usr/local/lib/python3.6/dist-packages (from pandas>=0.19->PyPortfolioOpt) (2018.9)\n",
            "Requirement already satisfied: python-dateutil>=2.7.3 in /usr/local/lib/python3.6/dist-packages (from pandas>=0.19->PyPortfolioOpt) (2.8.1)\n",
            "Requirement already satisfied: qdldl in /usr/local/lib/python3.6/dist-packages (from osqp>=0.4.1->cvxpy<2.0.0,>=1.1.10->PyPortfolioOpt) (0.1.5.post0)\n",
            "Requirement already satisfied: six>=1.5 in /usr/local/lib/python3.6/dist-packages (from python-dateutil>=2.7.3->pandas>=0.19->PyPortfolioOpt) (1.15.0)\n",
            "Building wheels for collected packages: cvxpy\n",
            "  Building wheel for cvxpy (PEP 517) ... \u001b[?25l\u001b[?25hdone\n",
            "  Created wheel for cvxpy: filename=cvxpy-1.1.10-cp36-cp36m-linux_x86_64.whl size=2683450 sha256=3c0f3771d7e1ad246bf39952adbdb386558bd95ecd7dc7f0d03927f7afcc14d2\n",
            "  Stored in directory: /root/.cache/pip/wheels/64/d6/c9/9295499aefa5af80018eaabffd09216170a1349b45551fb8d5\n",
            "Successfully built cvxpy\n",
            "Installing collected packages: cvxpy, PyPortfolioOpt\n",
            "  Found existing installation: cvxpy 1.0.31\n",
            "    Uninstalling cvxpy-1.0.31:\n",
            "      Successfully uninstalled cvxpy-1.0.31\n",
            "Successfully installed PyPortfolioOpt-1.4.0 cvxpy-1.1.10\n"
          ],
          "name": "stdout"
        }
      ]
    },
    {
      "cell_type": "code",
      "metadata": {
        "id": "X_VSlgggh7lL"
      },
      "source": [
        "from pypfopt.efficient_frontier import EfficientFrontier \n",
        "from pypfopt import risk_models \n",
        "from pypfopt import expected_returns "
      ],
      "execution_count": null,
      "outputs": []
    },
    {
      "cell_type": "markdown",
      "metadata": {
        "id": "QtEi0mA0p91f"
      },
      "source": [
        "# **Calculting Returns and Volatility Using Evenly Distributed Profolio**"
      ]
    },
    {
      "cell_type": "code",
      "metadata": {
        "id": "5IFTZMVN8Sb9"
      },
      "source": [
        "#wrtting down stock tickers\n",
        "assets = ['BNGO','SENS','SNDL','ZOM','CTRM']"
      ],
      "execution_count": null,
      "outputs": []
    },
    {
      "cell_type": "code",
      "metadata": {
        "id": "nJGBeVq78nRS",
        "colab": {
          "base_uri": "https://localhost:8080/"
        },
        "outputId": "655d8397-c8ba-4162-f93a-ba1b56ddace9"
      },
      "source": [
        "#assign weights, an array with the sum of 1 (percentage of each investment on my porfolio)\n",
        "weights = (1/len(assets))*np.ones(len(assets))\n",
        "weights"
      ],
      "execution_count": null,
      "outputs": [
        {
          "output_type": "execute_result",
          "data": {
            "text/plain": [
              "array([0.2, 0.2, 0.2, 0.2, 0.2])"
            ]
          },
          "metadata": {
            "tags": []
          },
          "execution_count": 5
        }
      ]
    },
    {
      "cell_type": "code",
      "metadata": {
        "id": "x9B18Q3O9KJi"
      },
      "source": [
        "#get the porfolio starting date\n",
        "start_date = '2020-01-01'"
      ],
      "execution_count": null,
      "outputs": []
    },
    {
      "cell_type": "code",
      "metadata": {
        "colab": {
          "base_uri": "https://localhost:8080/",
          "height": 35
        },
        "id": "d7VYA22h9OvK",
        "outputId": "a2e4c723-0610-4710-a6e7-dc594be6c29c"
      },
      "source": [
        "#get the stock ending date\n",
        "today = datetime.today().strftime('%Y-%m-%d')\n",
        "today"
      ],
      "execution_count": null,
      "outputs": [
        {
          "output_type": "execute_result",
          "data": {
            "application/vnd.google.colaboratory.intrinsic+json": {
              "type": "string"
            },
            "text/plain": [
              "'2021-02-19'"
            ]
          },
          "metadata": {
            "tags": []
          },
          "execution_count": 7
        }
      ]
    },
    {
      "cell_type": "code",
      "metadata": {
        "id": "G-vK5oC79rGp"
      },
      "source": [
        "#create a dataframe and store the adjusted close price of the stocks\n",
        "df=pd.DataFrame()\n",
        "\n",
        "for stock in assets:\n",
        "  df[stock] = web.DataReader(stock,data_source='yahoo',start=start_date,end=today)['Adj Close']"
      ],
      "execution_count": null,
      "outputs": []
    },
    {
      "cell_type": "code",
      "metadata": {
        "colab": {
          "base_uri": "https://localhost:8080/"
        },
        "id": "QnHwJGU0Bvbn",
        "outputId": "c11b004a-9a35-4a1c-a869-19845a518e4f"
      },
      "source": [
        "df"
      ],
      "execution_count": null,
      "outputs": [
        {
          "output_type": "execute_result",
          "data": {
            "text/html": [
              "<div>\n",
              "<style scoped>\n",
              "    .dataframe tbody tr th:only-of-type {\n",
              "        vertical-align: middle;\n",
              "    }\n",
              "\n",
              "    .dataframe tbody tr th {\n",
              "        vertical-align: top;\n",
              "    }\n",
              "\n",
              "    .dataframe thead th {\n",
              "        text-align: right;\n",
              "    }\n",
              "</style>\n",
              "<table border=\"1\" class=\"dataframe\">\n",
              "  <thead>\n",
              "    <tr style=\"text-align: right;\">\n",
              "      <th></th>\n",
              "      <th>BNGO</th>\n",
              "      <th>SENS</th>\n",
              "      <th>SNDL</th>\n",
              "      <th>ZOM</th>\n",
              "      <th>CTRM</th>\n",
              "    </tr>\n",
              "    <tr>\n",
              "      <th>Date</th>\n",
              "      <th></th>\n",
              "      <th></th>\n",
              "      <th></th>\n",
              "      <th></th>\n",
              "      <th></th>\n",
              "    </tr>\n",
              "  </thead>\n",
              "  <tbody>\n",
              "    <tr>\n",
              "      <th>2020-01-02</th>\n",
              "      <td>1.24</td>\n",
              "      <td>0.881</td>\n",
              "      <td>3.03</td>\n",
              "      <td>0.331</td>\n",
              "      <td>1.904</td>\n",
              "    </tr>\n",
              "    <tr>\n",
              "      <th>2020-01-03</th>\n",
              "      <td>1.23</td>\n",
              "      <td>0.890</td>\n",
              "      <td>2.89</td>\n",
              "      <td>0.332</td>\n",
              "      <td>1.920</td>\n",
              "    </tr>\n",
              "    <tr>\n",
              "      <th>2020-01-06</th>\n",
              "      <td>1.27</td>\n",
              "      <td>0.861</td>\n",
              "      <td>2.97</td>\n",
              "      <td>0.313</td>\n",
              "      <td>1.940</td>\n",
              "    </tr>\n",
              "    <tr>\n",
              "      <th>2020-01-07</th>\n",
              "      <td>1.24</td>\n",
              "      <td>0.888</td>\n",
              "      <td>2.84</td>\n",
              "      <td>0.313</td>\n",
              "      <td>1.920</td>\n",
              "    </tr>\n",
              "    <tr>\n",
              "      <th>2020-01-08</th>\n",
              "      <td>1.24</td>\n",
              "      <td>0.864</td>\n",
              "      <td>2.71</td>\n",
              "      <td>0.320</td>\n",
              "      <td>1.880</td>\n",
              "    </tr>\n",
              "    <tr>\n",
              "      <th>...</th>\n",
              "      <td>...</td>\n",
              "      <td>...</td>\n",
              "      <td>...</td>\n",
              "      <td>...</td>\n",
              "      <td>...</td>\n",
              "    </tr>\n",
              "    <tr>\n",
              "      <th>2021-02-11</th>\n",
              "      <td>11.70</td>\n",
              "      <td>3.810</td>\n",
              "      <td>2.38</td>\n",
              "      <td>2.660</td>\n",
              "      <td>1.730</td>\n",
              "    </tr>\n",
              "    <tr>\n",
              "      <th>2021-02-12</th>\n",
              "      <td>13.70</td>\n",
              "      <td>4.160</td>\n",
              "      <td>2.08</td>\n",
              "      <td>2.570</td>\n",
              "      <td>1.470</td>\n",
              "    </tr>\n",
              "    <tr>\n",
              "      <th>2021-02-16</th>\n",
              "      <td>15.57</td>\n",
              "      <td>5.270</td>\n",
              "      <td>2.19</td>\n",
              "      <td>2.370</td>\n",
              "      <td>1.400</td>\n",
              "    </tr>\n",
              "    <tr>\n",
              "      <th>2021-02-17</th>\n",
              "      <td>14.54</td>\n",
              "      <td>4.760</td>\n",
              "      <td>1.72</td>\n",
              "      <td>2.320</td>\n",
              "      <td>1.160</td>\n",
              "    </tr>\n",
              "    <tr>\n",
              "      <th>2021-02-18</th>\n",
              "      <td>12.82</td>\n",
              "      <td>4.510</td>\n",
              "      <td>1.45</td>\n",
              "      <td>2.210</td>\n",
              "      <td>1.210</td>\n",
              "    </tr>\n",
              "  </tbody>\n",
              "</table>\n",
              "<p>285 rows × 5 columns</p>\n",
              "</div>"
            ],
            "text/plain": [
              "             BNGO   SENS  SNDL    ZOM   CTRM\n",
              "Date                                        \n",
              "2020-01-02   1.24  0.881  3.03  0.331  1.904\n",
              "2020-01-03   1.23  0.890  2.89  0.332  1.920\n",
              "2020-01-06   1.27  0.861  2.97  0.313  1.940\n",
              "2020-01-07   1.24  0.888  2.84  0.313  1.920\n",
              "2020-01-08   1.24  0.864  2.71  0.320  1.880\n",
              "...           ...    ...   ...    ...    ...\n",
              "2021-02-11  11.70  3.810  2.38  2.660  1.730\n",
              "2021-02-12  13.70  4.160  2.08  2.570  1.470\n",
              "2021-02-16  15.57  5.270  2.19  2.370  1.400\n",
              "2021-02-17  14.54  4.760  1.72  2.320  1.160\n",
              "2021-02-18  12.82  4.510  1.45  2.210  1.210\n",
              "\n",
              "[285 rows x 5 columns]"
            ]
          },
          "metadata": {
            "tags": []
          },
          "execution_count": 9
        }
      ]
    },
    {
      "cell_type": "code",
      "metadata": {
        "colab": {
          "base_uri": "https://localhost:8080/",
          "height": 583
        },
        "id": "sZL-6tAqjM9k",
        "outputId": "4ebccc6f-7b41-448f-83e3-36556e9f2430"
      },
      "source": [
        "title = 'Portfolio Adj. Price History'\n",
        "\n",
        "plt.figure(figsize=(14,8.5))\n",
        "for column in df.columns.values:\n",
        "  plt.plot(df[column],label = [column])\n",
        "  \n",
        "plt.title(title,fontsize=30)\n",
        "plt.ylabel('Adj. Price History in USD($)',fontsize=25)\n",
        "plt.xlabel('Date', fontsize=27)\n",
        "plt.legend()"
      ],
      "execution_count": null,
      "outputs": [
        {
          "output_type": "execute_result",
          "data": {
            "text/plain": [
              "<matplotlib.legend.Legend at 0x7f6cd4c5be80>"
            ]
          },
          "metadata": {
            "tags": []
          },
          "execution_count": 10
        },
        {
          "output_type": "display_data",
          "data": {
            "image/png": "[encoded data removed]",
            "text/plain": [
              "<Figure size 1008x612 with 1 Axes>"
            ]
          },
          "metadata": {
            "tags": [],
            "needs_background": "light"
          }
        }
      ]
    },
    {
      "cell_type": "code",
      "metadata": {
        "colab": {
          "base_uri": "https://localhost:8080/",
          "height": 583
        },
        "id": "to6g1WNePsdS",
        "outputId": "ba3d3442-6b0e-4f5c-a6c8-faa23943c7d2"
      },
      "source": [
        "# stock data visualization\n",
        "\n",
        "x = df.values #returns a numpy array\n",
        "min_max_scaler = preprocessing.MinMaxScaler()\n",
        "x_scaled = min_max_scaler.fit_transform(x)\n",
        "norm_pri = pd.DataFrame(data=x_scaled,columns=df.columns) # a dataframe for normalized price\n",
        "norm_pri.index = df.index\n",
        "\n",
        "title = 'Portfolio Adj. Price History'\n",
        "\n",
        "plt.figure(figsize=(14,8.5))\n",
        "for column in norm_pri.columns.values:\n",
        "  plt.plot(norm_pri[column],label = [column])\n",
        "  \n",
        "plt.title(title,fontsize=30)\n",
        "plt.ylabel('Normalized Growth History',fontsize=25)\n",
        "plt.xlabel('Date', fontsize=27)\n",
        "plt.legend()"
      ],
      "execution_count": null,
      "outputs": [
        {
          "output_type": "execute_result",
          "data": {
            "text/plain": [
              "<matplotlib.legend.Legend at 0x7f6cd4d525f8>"
            ]
          },
          "metadata": {
            "tags": []
          },
          "execution_count": 11
        },
        {
          "output_type": "display_data",
          "data": {
            "image/png": "[encoded data removed]",
            "text/plain": [
              "<Figure size 1008x612 with 1 Axes>"
            ]
          },
          "metadata": {
            "tags": [],
            "needs_background": "light"
          }
        }
      ]
    },
    {
      "cell_type": "code",
      "metadata": {
        "colab": {
          "base_uri": "https://localhost:8080/",
          "height": 437
        },
        "id": "8JJRhZdGnNJi",
        "outputId": "bb29500c-1629-404c-af5e-8188bcef5a94"
      },
      "source": [
        "norm_pri"
      ],
      "execution_count": null,
      "outputs": [
        {
          "output_type": "execute_result",
          "data": {
            "text/html": [
              "<div>\n",
              "<style scoped>\n",
              "    .dataframe tbody tr th:only-of-type {\n",
              "        vertical-align: middle;\n",
              "    }\n",
              "\n",
              "    .dataframe tbody tr th {\n",
              "        vertical-align: top;\n",
              "    }\n",
              "\n",
              "    .dataframe thead th {\n",
              "        text-align: right;\n",
              "    }\n",
              "</style>\n",
              "<table border=\"1\" class=\"dataframe\">\n",
              "  <thead>\n",
              "    <tr style=\"text-align: right;\">\n",
              "      <th></th>\n",
              "      <th>BNGO</th>\n",
              "      <th>SENS</th>\n",
              "      <th>SNDL</th>\n",
              "      <th>ZOM</th>\n",
              "      <th>CTRM</th>\n",
              "    </tr>\n",
              "    <tr>\n",
              "      <th>Date</th>\n",
              "      <th></th>\n",
              "      <th></th>\n",
              "      <th></th>\n",
              "      <th></th>\n",
              "      <th></th>\n",
              "    </tr>\n",
              "  </thead>\n",
              "  <tbody>\n",
              "    <tr>\n",
              "      <th>2020-01-02</th>\n",
              "      <td>0.064010</td>\n",
              "      <td>0.106474</td>\n",
              "      <td>0.870326</td>\n",
              "      <td>0.100266</td>\n",
              "      <td>0.980241</td>\n",
              "    </tr>\n",
              "    <tr>\n",
              "      <th>2020-01-03</th>\n",
              "      <td>0.063357</td>\n",
              "      <td>0.108306</td>\n",
              "      <td>0.828106</td>\n",
              "      <td>0.100646</td>\n",
              "      <td>0.989023</td>\n",
              "    </tr>\n",
              "    <tr>\n",
              "      <th>2020-01-06</th>\n",
              "      <td>0.065970</td>\n",
              "      <td>0.102402</td>\n",
              "      <td>0.852232</td>\n",
              "      <td>0.093430</td>\n",
              "      <td>1.000000</td>\n",
              "    </tr>\n",
              "    <tr>\n",
              "      <th>2020-01-07</th>\n",
              "      <td>0.064010</td>\n",
              "      <td>0.107899</td>\n",
              "      <td>0.813028</td>\n",
              "      <td>0.093430</td>\n",
              "      <td>0.989023</td>\n",
              "    </tr>\n",
              "    <tr>\n",
              "      <th>2020-01-08</th>\n",
              "      <td>0.064010</td>\n",
              "      <td>0.103013</td>\n",
              "      <td>0.773824</td>\n",
              "      <td>0.096088</td>\n",
              "      <td>0.967069</td>\n",
              "    </tr>\n",
              "    <tr>\n",
              "      <th>...</th>\n",
              "      <td>...</td>\n",
              "      <td>...</td>\n",
              "      <td>...</td>\n",
              "      <td>...</td>\n",
              "      <td>...</td>\n",
              "    </tr>\n",
              "    <tr>\n",
              "      <th>2021-02-11</th>\n",
              "      <td>0.747224</td>\n",
              "      <td>0.702769</td>\n",
              "      <td>0.674306</td>\n",
              "      <td>0.984808</td>\n",
              "      <td>0.884742</td>\n",
              "    </tr>\n",
              "    <tr>\n",
              "      <th>2021-02-12</th>\n",
              "      <td>0.877858</td>\n",
              "      <td>0.774023</td>\n",
              "      <td>0.583836</td>\n",
              "      <td>0.950627</td>\n",
              "      <td>0.742042</td>\n",
              "    </tr>\n",
              "    <tr>\n",
              "      <th>2021-02-16</th>\n",
              "      <td>1.000000</td>\n",
              "      <td>1.000000</td>\n",
              "      <td>0.617008</td>\n",
              "      <td>0.874668</td>\n",
              "      <td>0.703622</td>\n",
              "    </tr>\n",
              "    <tr>\n",
              "      <th>2021-02-17</th>\n",
              "      <td>0.932724</td>\n",
              "      <td>0.896173</td>\n",
              "      <td>0.475271</td>\n",
              "      <td>0.855678</td>\n",
              "      <td>0.571899</td>\n",
              "    </tr>\n",
              "    <tr>\n",
              "      <th>2021-02-18</th>\n",
              "      <td>0.820379</td>\n",
              "      <td>0.845277</td>\n",
              "      <td>0.393848</td>\n",
              "      <td>0.813900</td>\n",
              "      <td>0.599341</td>\n",
              "    </tr>\n",
              "  </tbody>\n",
              "</table>\n",
              "<p>285 rows × 5 columns</p>\n",
              "</div>"
            ],
            "text/plain": [
              "                BNGO      SENS      SNDL       ZOM      CTRM\n",
              "Date                                                        \n",
              "2020-01-02  0.064010  0.106474  0.870326  0.100266  0.980241\n",
              "2020-01-03  0.063357  0.108306  0.828106  0.100646  0.989023\n",
              "2020-01-06  0.065970  0.102402  0.852232  0.093430  1.000000\n",
              "2020-01-07  0.064010  0.107899  0.813028  0.093430  0.989023\n",
              "2020-01-08  0.064010  0.103013  0.773824  0.096088  0.967069\n",
              "...              ...       ...       ...       ...       ...\n",
              "2021-02-11  0.747224  0.702769  0.674306  0.984808  0.884742\n",
              "2021-02-12  0.877858  0.774023  0.583836  0.950627  0.742042\n",
              "2021-02-16  1.000000  1.000000  0.617008  0.874668  0.703622\n",
              "2021-02-17  0.932724  0.896173  0.475271  0.855678  0.571899\n",
              "2021-02-18  0.820379  0.845277  0.393848  0.813900  0.599341\n",
              "\n",
              "[285 rows x 5 columns]"
            ]
          },
          "metadata": {
            "tags": []
          },
          "execution_count": 12
        }
      ]
    },
    {
      "cell_type": "code",
      "metadata": {
        "colab": {
          "base_uri": "https://localhost:8080/",
          "height": 437
        },
        "id": "sN3k81YBR3fK",
        "outputId": "a1d2db4c-dc8a-4a27-84fe-12d974020209"
      },
      "source": [
        "#show daily simple returns\n",
        "\n",
        "returns = df.pct_change()\n",
        "\n",
        "returns"
      ],
      "execution_count": null,
      "outputs": [
        {
          "output_type": "execute_result",
          "data": {
            "text/html": [
              "<div>\n",
              "<style scoped>\n",
              "    .dataframe tbody tr th:only-of-type {\n",
              "        vertical-align: middle;\n",
              "    }\n",
              "\n",
              "    .dataframe tbody tr th {\n",
              "        vertical-align: top;\n",
              "    }\n",
              "\n",
              "    .dataframe thead th {\n",
              "        text-align: right;\n",
              "    }\n",
              "</style>\n",
              "<table border=\"1\" class=\"dataframe\">\n",
              "  <thead>\n",
              "    <tr style=\"text-align: right;\">\n",
              "      <th></th>\n",
              "      <th>BNGO</th>\n",
              "      <th>SENS</th>\n",
              "      <th>SNDL</th>\n",
              "      <th>ZOM</th>\n",
              "      <th>CTRM</th>\n",
              "    </tr>\n",
              "    <tr>\n",
              "      <th>Date</th>\n",
              "      <th></th>\n",
              "      <th></th>\n",
              "      <th></th>\n",
              "      <th></th>\n",
              "      <th></th>\n",
              "    </tr>\n",
              "  </thead>\n",
              "  <tbody>\n",
              "    <tr>\n",
              "      <th>2020-01-02</th>\n",
              "      <td>NaN</td>\n",
              "      <td>NaN</td>\n",
              "      <td>NaN</td>\n",
              "      <td>NaN</td>\n",
              "      <td>NaN</td>\n",
              "    </tr>\n",
              "    <tr>\n",
              "      <th>2020-01-03</th>\n",
              "      <td>-0.008065</td>\n",
              "      <td>0.010216</td>\n",
              "      <td>-0.046205</td>\n",
              "      <td>0.003021</td>\n",
              "      <td>0.008403</td>\n",
              "    </tr>\n",
              "    <tr>\n",
              "      <th>2020-01-06</th>\n",
              "      <td>0.032520</td>\n",
              "      <td>-0.032584</td>\n",
              "      <td>0.027682</td>\n",
              "      <td>-0.057229</td>\n",
              "      <td>0.010417</td>\n",
              "    </tr>\n",
              "    <tr>\n",
              "      <th>2020-01-07</th>\n",
              "      <td>-0.023622</td>\n",
              "      <td>0.031359</td>\n",
              "      <td>-0.043771</td>\n",
              "      <td>0.000000</td>\n",
              "      <td>-0.010309</td>\n",
              "    </tr>\n",
              "    <tr>\n",
              "      <th>2020-01-08</th>\n",
              "      <td>0.000000</td>\n",
              "      <td>-0.027027</td>\n",
              "      <td>-0.045775</td>\n",
              "      <td>0.022364</td>\n",
              "      <td>-0.020833</td>\n",
              "    </tr>\n",
              "    <tr>\n",
              "      <th>...</th>\n",
              "      <td>...</td>\n",
              "      <td>...</td>\n",
              "      <td>...</td>\n",
              "      <td>...</td>\n",
              "      <td>...</td>\n",
              "    </tr>\n",
              "    <tr>\n",
              "      <th>2021-02-11</th>\n",
              "      <td>0.028119</td>\n",
              "      <td>-0.002618</td>\n",
              "      <td>-0.193220</td>\n",
              "      <td>0.043137</td>\n",
              "      <td>0.453781</td>\n",
              "    </tr>\n",
              "    <tr>\n",
              "      <th>2021-02-12</th>\n",
              "      <td>0.170940</td>\n",
              "      <td>0.091863</td>\n",
              "      <td>-0.126050</td>\n",
              "      <td>-0.033835</td>\n",
              "      <td>-0.150289</td>\n",
              "    </tr>\n",
              "    <tr>\n",
              "      <th>2021-02-16</th>\n",
              "      <td>0.136496</td>\n",
              "      <td>0.266827</td>\n",
              "      <td>0.052885</td>\n",
              "      <td>-0.077821</td>\n",
              "      <td>-0.047619</td>\n",
              "    </tr>\n",
              "    <tr>\n",
              "      <th>2021-02-17</th>\n",
              "      <td>-0.066153</td>\n",
              "      <td>-0.096774</td>\n",
              "      <td>-0.214612</td>\n",
              "      <td>-0.021097</td>\n",
              "      <td>-0.171429</td>\n",
              "    </tr>\n",
              "    <tr>\n",
              "      <th>2021-02-18</th>\n",
              "      <td>-0.118294</td>\n",
              "      <td>-0.052521</td>\n",
              "      <td>-0.156977</td>\n",
              "      <td>-0.047414</td>\n",
              "      <td>0.043104</td>\n",
              "    </tr>\n",
              "  </tbody>\n",
              "</table>\n",
              "<p>285 rows × 5 columns</p>\n",
              "</div>"
            ],
            "text/plain": [
              "                BNGO      SENS      SNDL       ZOM      CTRM\n",
              "Date                                                        \n",
              "2020-01-02       NaN       NaN       NaN       NaN       NaN\n",
              "2020-01-03 -0.008065  0.010216 -0.046205  0.003021  0.008403\n",
              "2020-01-06  0.032520 -0.032584  0.027682 -0.057229  0.010417\n",
              "2020-01-07 -0.023622  0.031359 -0.043771  0.000000 -0.010309\n",
              "2020-01-08  0.000000 -0.027027 -0.045775  0.022364 -0.020833\n",
              "...              ...       ...       ...       ...       ...\n",
              "2021-02-11  0.028119 -0.002618 -0.193220  0.043137  0.453781\n",
              "2021-02-12  0.170940  0.091863 -0.126050 -0.033835 -0.150289\n",
              "2021-02-16  0.136496  0.266827  0.052885 -0.077821 -0.047619\n",
              "2021-02-17 -0.066153 -0.096774 -0.214612 -0.021097 -0.171429\n",
              "2021-02-18 -0.118294 -0.052521 -0.156977 -0.047414  0.043104\n",
              "\n",
              "[285 rows x 5 columns]"
            ]
          },
          "metadata": {
            "tags": []
          },
          "execution_count": 13
        }
      ]
    },
    {
      "cell_type": "code",
      "metadata": {
        "colab": {
          "base_uri": "https://localhost:8080/",
          "height": 198
        },
        "id": "Nu6_MbgHSZBx",
        "outputId": "0ab4f3b3-68c1-44b8-d309-44bcf507683f"
      },
      "source": [
        "#create annuallized covariance matrix\n",
        "\n",
        "trading_days = 253+19+13 \n",
        "# 253 is the trading days of 2020\n",
        "# 29 is the trading days of jan. 2021\n",
        "# 13 is the trading days from 2/1/2021 to 2/18/2021\n",
        "\n",
        "yearly_cov_mat = returns.cov()*trading_days\n",
        "\n",
        "yearly_cov_mat"
      ],
      "execution_count": null,
      "outputs": [
        {
          "output_type": "execute_result",
          "data": {
            "text/html": [
              "<div>\n",
              "<style scoped>\n",
              "    .dataframe tbody tr th:only-of-type {\n",
              "        vertical-align: middle;\n",
              "    }\n",
              "\n",
              "    .dataframe tbody tr th {\n",
              "        vertical-align: top;\n",
              "    }\n",
              "\n",
              "    .dataframe thead th {\n",
              "        text-align: right;\n",
              "    }\n",
              "</style>\n",
              "<table border=\"1\" class=\"dataframe\">\n",
              "  <thead>\n",
              "    <tr style=\"text-align: right;\">\n",
              "      <th></th>\n",
              "      <th>BNGO</th>\n",
              "      <th>SENS</th>\n",
              "      <th>SNDL</th>\n",
              "      <th>ZOM</th>\n",
              "      <th>CTRM</th>\n",
              "    </tr>\n",
              "  </thead>\n",
              "  <tbody>\n",
              "    <tr>\n",
              "      <th>BNGO</th>\n",
              "      <td>4.502181</td>\n",
              "      <td>0.791806</td>\n",
              "      <td>0.478540</td>\n",
              "      <td>0.913853</td>\n",
              "      <td>0.086192</td>\n",
              "    </tr>\n",
              "    <tr>\n",
              "      <th>SENS</th>\n",
              "      <td>0.791806</td>\n",
              "      <td>2.485278</td>\n",
              "      <td>0.369261</td>\n",
              "      <td>0.439277</td>\n",
              "      <td>0.301507</td>\n",
              "    </tr>\n",
              "    <tr>\n",
              "      <th>SNDL</th>\n",
              "      <td>0.478540</td>\n",
              "      <td>0.369261</td>\n",
              "      <td>5.508335</td>\n",
              "      <td>0.437752</td>\n",
              "      <td>0.637114</td>\n",
              "    </tr>\n",
              "    <tr>\n",
              "      <th>ZOM</th>\n",
              "      <td>0.913853</td>\n",
              "      <td>0.439277</td>\n",
              "      <td>0.437752</td>\n",
              "      <td>5.049696</td>\n",
              "      <td>0.542899</td>\n",
              "    </tr>\n",
              "    <tr>\n",
              "      <th>CTRM</th>\n",
              "      <td>0.086192</td>\n",
              "      <td>0.301507</td>\n",
              "      <td>0.637114</td>\n",
              "      <td>0.542899</td>\n",
              "      <td>2.338007</td>\n",
              "    </tr>\n",
              "  </tbody>\n",
              "</table>\n",
              "</div>"
            ],
            "text/plain": [
              "          BNGO      SENS      SNDL       ZOM      CTRM\n",
              "BNGO  4.502181  0.791806  0.478540  0.913853  0.086192\n",
              "SENS  0.791806  2.485278  0.369261  0.439277  0.301507\n",
              "SNDL  0.478540  0.369261  5.508335  0.437752  0.637114\n",
              "ZOM   0.913853  0.439277  0.437752  5.049696  0.542899\n",
              "CTRM  0.086192  0.301507  0.637114  0.542899  2.338007"
            ]
          },
          "metadata": {
            "tags": []
          },
          "execution_count": 14
        }
      ]
    },
    {
      "cell_type": "code",
      "metadata": {
        "colab": {
          "base_uri": "https://localhost:8080/"
        },
        "id": "yjXyXsSpTzzb",
        "outputId": "4a796fbc-47d7-4a09-8276-80079dbaf345"
      },
      "source": [
        "port_variance = np.dot(weights,np.dot(yearly_cov_mat,weights.T))\n",
        "port_variance"
      ],
      "execution_count": null,
      "outputs": [
        {
          "output_type": "execute_result",
          "data": {
            "text/plain": [
              "1.1951960325955615"
            ]
          },
          "metadata": {
            "tags": []
          },
          "execution_count": 15
        }
      ]
    },
    {
      "cell_type": "code",
      "metadata": {
        "colab": {
          "base_uri": "https://localhost:8080/"
        },
        "id": "T9G0I9ysV6gc",
        "outputId": "5b2209a0-0e9a-4a53-e427-8d19ddbc08ed"
      },
      "source": [
        "#calculation the profolio volatiliy, aka the STDs\n",
        "\n",
        "port_std = np.sqrt(port_variance)\n",
        "\n",
        "port_std"
      ],
      "execution_count": null,
      "outputs": [
        {
          "output_type": "execute_result",
          "data": {
            "text/plain": [
              "1.0932502149990924"
            ]
          },
          "metadata": {
            "tags": []
          },
          "execution_count": 16
        }
      ]
    },
    {
      "cell_type": "code",
      "metadata": {
        "colab": {
          "base_uri": "https://localhost:8080/"
        },
        "id": "2W_R0c8LWU2o",
        "outputId": "4ce0c545-54e4-47bd-9091-79e4aa18ea34"
      },
      "source": [
        "#calculate the annual profolio return\n",
        "\n",
        "yr_return = np.sum(np.matmul(weights,returns.mean()))*trading_days\n",
        "\n",
        "yr_return"
      ],
      "execution_count": null,
      "outputs": [
        {
          "output_type": "execute_result",
          "data": {
            "text/plain": [
              "2.609074741675485"
            ]
          },
          "metadata": {
            "tags": []
          },
          "execution_count": 17
        }
      ]
    },
    {
      "cell_type": "code",
      "metadata": {
        "colab": {
          "base_uri": "https://localhost:8080/"
        },
        "id": "6058RT7_W4Ht",
        "outputId": "eb5b1acb-91e5-4cec-bb7f-aa19e4844e81"
      },
      "source": [
        "#annual return, volatility (risk), and variance\n",
        "\n",
        "pct_var = str(np.round(port_variance,2)*100)+'%'\n",
        "pct_vol = str(np.round(port_std,2)*100)+'%'\n",
        "pct_ret = str(np.round(yr_return,2)*100)+'%'\n",
        "\n",
        "print('expected annual return: '+pct_ret+';')\n",
        "print('expected annual volatility: '+pct_vol+';')\n",
        "print('expected annual variance: '+pct_var+'.')"
      ],
      "execution_count": null,
      "outputs": [
        {
          "output_type": "stream",
          "text": [
            "expected annual return: 261.0%;\n",
            "expected annual volatility: 109.00000000000001%;\n",
            "expected annual variance: 120.0%.\n"
          ],
          "name": "stdout"
        }
      ]
    },
    {
      "cell_type": "markdown",
      "metadata": {
        "id": "nxmaD2xOuJwn"
      },
      "source": [
        "#**Portfolio Opimization via Maximizing the Sharpe Ratio**"
      ]
    },
    {
      "cell_type": "code",
      "metadata": {
        "colab": {
          "base_uri": "https://localhost:8080/"
        },
        "id": "Bicn42w2ia-C",
        "outputId": "fd2ef562-bc6e-445d-e609-02284bb07486"
      },
      "source": [
        "#calculate the expected returns and the annualized sample covariance matrix\n",
        "\n",
        "mu = expected_returns.mean_historical_return(df) # mu stands for mean\n",
        "s = risk_models.sample_cov(df)  # sample covrariance matrix\n",
        "\n",
        "#optimize for max sharpe ratio - how much return I received for some amount of volatility (William Shapre, 1966)\n",
        "\n",
        "ef = EfficientFrontier(mu,s)\n",
        "weights = ef.max_sharpe()\n",
        "cleanned_w = ef.clean_weights() # get rid of the stocks I don't need to optimize my portfolio\n",
        "\n",
        "print('Cleanned Weights: '+str(cleanned_w))\n",
        "\n",
        "ef.portfolio_performance(verbose = True)"
      ],
      "execution_count": null,
      "outputs": [
        {
          "output_type": "stream",
          "text": [
            "Cleanned Weights: OrderedDict([('BNGO', 0.48596), ('SENS', 0.30059), ('SNDL', 0.0), ('ZOM', 0.21344), ('CTRM', 0.0)])\n",
            "Expected annual return: 529.2%\n",
            "Annual volatility: 132.8%\n",
            "Sharpe Ratio: 3.97\n"
          ],
          "name": "stdout"
        },
        {
          "output_type": "execute_result",
          "data": {
            "text/plain": [
              "(5.29237495349209, 1.328197730723017, 3.9695708188132675)"
            ]
          },
          "metadata": {
            "tags": []
          },
          "execution_count": 19
        }
      ]
    },
    {
      "cell_type": "code",
      "metadata": {
        "colab": {
          "base_uri": "https://localhost:8080/",
          "height": 198
        },
        "id": "yYsyPLjNsN8U",
        "outputId": "2c977095-79fd-4f7a-ae27-195407bc04f6"
      },
      "source": [
        "s"
      ],
      "execution_count": null,
      "outputs": [
        {
          "output_type": "execute_result",
          "data": {
            "text/html": [
              "<div>\n",
              "<style scoped>\n",
              "    .dataframe tbody tr th:only-of-type {\n",
              "        vertical-align: middle;\n",
              "    }\n",
              "\n",
              "    .dataframe tbody tr th {\n",
              "        vertical-align: top;\n",
              "    }\n",
              "\n",
              "    .dataframe thead th {\n",
              "        text-align: right;\n",
              "    }\n",
              "</style>\n",
              "<table border=\"1\" class=\"dataframe\">\n",
              "  <thead>\n",
              "    <tr style=\"text-align: right;\">\n",
              "      <th></th>\n",
              "      <th>BNGO</th>\n",
              "      <th>SENS</th>\n",
              "      <th>SNDL</th>\n",
              "      <th>ZOM</th>\n",
              "      <th>CTRM</th>\n",
              "    </tr>\n",
              "  </thead>\n",
              "  <tbody>\n",
              "    <tr>\n",
              "      <th>BNGO</th>\n",
              "      <td>3.980876</td>\n",
              "      <td>0.700123</td>\n",
              "      <td>0.423130</td>\n",
              "      <td>0.808039</td>\n",
              "      <td>0.076212</td>\n",
              "    </tr>\n",
              "    <tr>\n",
              "      <th>SENS</th>\n",
              "      <td>0.700123</td>\n",
              "      <td>2.197509</td>\n",
              "      <td>0.326505</td>\n",
              "      <td>0.388413</td>\n",
              "      <td>0.266596</td>\n",
              "    </tr>\n",
              "    <tr>\n",
              "      <th>SNDL</th>\n",
              "      <td>0.423130</td>\n",
              "      <td>0.326505</td>\n",
              "      <td>4.870528</td>\n",
              "      <td>0.387065</td>\n",
              "      <td>0.563343</td>\n",
              "    </tr>\n",
              "    <tr>\n",
              "      <th>ZOM</th>\n",
              "      <td>0.808039</td>\n",
              "      <td>0.388413</td>\n",
              "      <td>0.387065</td>\n",
              "      <td>4.464995</td>\n",
              "      <td>0.480037</td>\n",
              "    </tr>\n",
              "    <tr>\n",
              "      <th>CTRM</th>\n",
              "      <td>0.076212</td>\n",
              "      <td>0.266596</td>\n",
              "      <td>0.563343</td>\n",
              "      <td>0.480037</td>\n",
              "      <td>2.067290</td>\n",
              "    </tr>\n",
              "  </tbody>\n",
              "</table>\n",
              "</div>"
            ],
            "text/plain": [
              "          BNGO      SENS      SNDL       ZOM      CTRM\n",
              "BNGO  3.980876  0.700123  0.423130  0.808039  0.076212\n",
              "SENS  0.700123  2.197509  0.326505  0.388413  0.266596\n",
              "SNDL  0.423130  0.326505  4.870528  0.387065  0.563343\n",
              "ZOM   0.808039  0.388413  0.387065  4.464995  0.480037\n",
              "CTRM  0.076212  0.266596  0.563343  0.480037  2.067290"
            ]
          },
          "metadata": {
            "tags": []
          },
          "execution_count": 20
        }
      ]
    },
    {
      "cell_type": "code",
      "metadata": {
        "id": "AOgbmE7ptFiM"
      },
      "source": [
        "# get the dicrete allocation of each stock\n",
        "from pypfopt.discrete_allocation import DiscreteAllocation as da\n",
        "from pypfopt.discrete_allocation import get_latest_prices as glp"
      ],
      "execution_count": null,
      "outputs": []
    },
    {
      "cell_type": "code",
      "metadata": {
        "colab": {
          "base_uri": "https://localhost:8080/"
        },
        "id": "6Zo8B20ZtgPB",
        "outputId": "eadc1312-113d-4392-f188-3dd556edf144"
      },
      "source": [
        "latest_prices = glp(df)\n",
        "dis_all = da(cleanned_w,latest_prices,total_portfolio_value=1e9)\n",
        "\n",
        "allocation, leftover=dis_all.lp_portfolio()\n",
        "\n",
        "print('Discrete Allocation: '+str(allocation))\n",
        "print('Funds Remaining: ${:.2f}'.format(leftover))"
      ],
      "execution_count": null,
      "outputs": [
        {
          "output_type": "stream",
          "text": [
            "Discrete Allocation: {'BNGO': 37906398, 'SENS': 66649664, 'ZOM': 96579184}\n",
            "Funds Remaining: $9988.99\n"
          ],
          "name": "stdout"
        }
      ]
    }
  ]
}